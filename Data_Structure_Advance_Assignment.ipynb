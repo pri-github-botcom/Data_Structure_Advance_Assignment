{
  "nbformat": 4,
  "nbformat_minor": 0,
  "metadata": {
    "colab": {
      "provenance": []
    },
    "kernelspec": {
      "name": "python3",
      "display_name": "Python 3"
    },
    "language_info": {
      "name": "python"
    }
  },
  "cells": [
    {
      "cell_type": "markdown",
      "source": [
        "1) Write a code to reverse a string.\n",
        "\n",
        "Solution:"
      ],
      "metadata": {
        "id": "qTq_QGnmg50W"
      }
    },
    {
      "cell_type": "code",
      "source": [
        "def reverse_string(s):\n",
        "  return s[::-1]\n",
        "\n",
        "string = \"Hello World\"\n",
        "print(reverse_string(string))"
      ],
      "metadata": {
        "colab": {
          "base_uri": "https://localhost:8080/"
        },
        "id": "vaCjfbE8HD02",
        "outputId": "b4381c3b-ee2b-4ccf-d3e6-de9897330b1c"
      },
      "execution_count": null,
      "outputs": [
        {
          "output_type": "stream",
          "name": "stdout",
          "text": [
            "dlroW olleH\n"
          ]
        }
      ]
    },
    {
      "cell_type": "markdown",
      "source": [
        "2) Write a code to count the number of vowels in a string.\n",
        "\n",
        "Solution:"
      ],
      "metadata": {
        "id": "5xbe4vSEhIgM"
      }
    },
    {
      "cell_type": "code",
      "source": [
        "def count_vowels(s):\n",
        "  vowels = \"aeiouAEIOU\"\n",
        "  count = 0\n",
        "  for char in s:\n",
        "    if char in vowels:\n",
        "      count += 1\n",
        "  return count\n",
        "\n",
        "string = \"Indian community\"\n",
        "print(count_vowels(string))"
      ],
      "metadata": {
        "colab": {
          "base_uri": "https://localhost:8080/"
        },
        "id": "0bY52_aiFr21",
        "outputId": "c9f9e638-ba4c-4a3e-bc70-64c0ffca360e"
      },
      "execution_count": null,
      "outputs": [
        {
          "output_type": "stream",
          "name": "stdout",
          "text": [
            "6\n"
          ]
        }
      ]
    },
    {
      "cell_type": "markdown",
      "source": [
        "3) Write a code to check if a given string is palindrome or not.\n",
        "\n",
        "Solution:"
      ],
      "metadata": {
        "id": "_d8RL6anhbOc"
      }
    },
    {
      "cell_type": "code",
      "source": [
        "def palindrome_string(s):\n",
        "  s = s.replace(\" \",\" \").lower()\n",
        "  return s == s[::-1]\n",
        "\n",
        "strings = [\"rotator\", \"python\"]\n",
        "for string in strings:\n",
        "  if palindrome_string(string):\n",
        "    print(f\" '{string}' is a palindrome.\")\n",
        "  else:\n",
        "    print(f\" '{string}' is not a palindrome.\")"
      ],
      "metadata": {
        "id": "jzz4skEf2DFk",
        "colab": {
          "base_uri": "https://localhost:8080/"
        },
        "outputId": "df7953d8-5d21-4682-9078-821a5c9af196"
      },
      "execution_count": null,
      "outputs": [
        {
          "output_type": "stream",
          "name": "stdout",
          "text": [
            " 'rotator' is a palindrome.\n",
            " 'python' is not a palindrome.\n"
          ]
        }
      ]
    },
    {
      "cell_type": "markdown",
      "source": [
        "4) Write a code to check if two given strings are anagrams of each other.\n",
        "\n",
        "Solution:"
      ],
      "metadata": {
        "id": "17_4XMOSh1_u"
      }
    },
    {
      "cell_type": "code",
      "source": [
        "def are_anagrams(str1_str2):\n",
        "  str1, str2 = str1_str2\n",
        "  return sorted(str1) == sorted(str2)\n",
        "\n",
        "str1 = \"cork\"\n",
        "str2 = \"rock\"\n",
        "if are_anagrams((str1, str2)):\n",
        "  print(f\" '{str1}' and '{str2}' are anagrams.\")\n",
        "else:\n",
        "  print(f\" '{str1}' and'{str2}' are not anagrams\")\n"
      ],
      "metadata": {
        "id": "-gLvBEDb18FL",
        "colab": {
          "base_uri": "https://localhost:8080/"
        },
        "outputId": "964ac4a8-d281-44ea-da0e-f9f5cc34a4b3"
      },
      "execution_count": null,
      "outputs": [
        {
          "output_type": "stream",
          "name": "stdout",
          "text": [
            " 'cork' and 'rock' are anagrams.\n"
          ]
        }
      ]
    },
    {
      "cell_type": "markdown",
      "source": [
        "5) Write a code to find all occurences in a given substring within another string.\n",
        "\n",
        "Solution:"
      ],
      "metadata": {
        "id": "R672UduZiIjy"
      }
    },
    {
      "cell_type": "code",
      "source": [
        "def find_all_occurences(main_string, sub_string):\n",
        "  occurences = []\n",
        "  start = 0\n",
        "  while True:\n",
        "    start = main_string.find(sub_string, start)\n",
        "    if start == -1:\n",
        "      break\n",
        "    occurences.append(start)\n",
        "    start += 1\n",
        "    if start == -1:\n",
        "      break\n",
        "    occurences.append(start)\n",
        "    start == 1\n",
        "    return occurences\n",
        "\n",
        "main_string = \"Hello Alice, Hello John\"\n",
        "sub_string = \"Hello\"\n",
        "positions = find_all_occurences(main_string, sub_string)\n",
        "print(\"occurences of substring are at positions:\", positions)\n"
      ],
      "metadata": {
        "colab": {
          "base_uri": "https://localhost:8080/"
        },
        "id": "iV2FDbHAbLJv",
        "outputId": "ff1f83cc-d661-484d-9371-6060e58a5527"
      },
      "execution_count": null,
      "outputs": [
        {
          "output_type": "stream",
          "name": "stdout",
          "text": [
            "occurences of substring are at positions: [0, 1]\n"
          ]
        }
      ]
    },
    {
      "cell_type": "markdown",
      "source": [
        "6)Write a code to perform basic string compression using the count of repeated characters.\n",
        "\n",
        "Solution:"
      ],
      "metadata": {
        "id": "8bv0XvsWieYM"
      }
    },
    {
      "cell_type": "code",
      "source": [
        "input_string = input(\"Enter a string to compress:\")\n",
        "compressed_string = \"\"\n",
        "count = 1\n",
        "for i in range(1, len(input_string)):\n",
        "  if input_string[i] == input_string[i-1]:\n",
        "    count += 1\n",
        "  else:\n",
        "    compressed_string += input_string[i-1] + str(count)\n",
        "    count = 1\n",
        "compressed_string += input_string[-1] + str(count)\n",
        "print(\"compressed_string:\", compressed_string)"
      ],
      "metadata": {
        "colab": {
          "base_uri": "https://localhost:8080/"
        },
        "id": "i0YHukPHr9-m",
        "outputId": "7370538d-28ce-4b26-e0d9-5eeb1ecf962a"
      },
      "execution_count": null,
      "outputs": [
        {
          "output_type": "stream",
          "name": "stdout",
          "text": [
            "Enter a string to compress:pppriiiyyyyyyaannnkka\n",
            "compressed_string: p3r1i3y6a2n3k2a1\n"
          ]
        }
      ]
    },
    {
      "cell_type": "markdown",
      "source": [
        "7) Write a code to determine if a string has all unique characters.\n",
        "\n",
        "Solution:"
      ],
      "metadata": {
        "id": "XWCGfBShi1h3"
      }
    },
    {
      "cell_type": "code",
      "source": [
        "def unique_characters(s):\n",
        "  char_set= set()\n",
        "  for char in s:\n",
        "    if char in char_set:\n",
        "      return False\n",
        "    char_set.add(char)\n",
        "    return True\n",
        "\n",
        "string = \"abcdefgh\"\n",
        "print(unique_characters(string))"
      ],
      "metadata": {
        "colab": {
          "base_uri": "https://localhost:8080/"
        },
        "id": "I9Zu6obE2AD9",
        "outputId": "48ae8bb5-7f25-4eae-a246-6317368500b2"
      },
      "execution_count": null,
      "outputs": [
        {
          "output_type": "stream",
          "name": "stdout",
          "text": [
            "True\n"
          ]
        }
      ]
    },
    {
      "cell_type": "markdown",
      "source": [
        "8) Write a code to convert a given string in uppercase or lowercase.\n",
        "\n",
        "Solution:"
      ],
      "metadata": {
        "id": "NnGVERFZjC62"
      }
    },
    {
      "cell_type": "code",
      "source": [
        "def upper_case(s):\n",
        "  return s.upper()\n",
        "\n",
        "string = \"hello world\"\n",
        "uppercased = upper_case(string)\n",
        "print(uppercased)"
      ],
      "metadata": {
        "colab": {
          "base_uri": "https://localhost:8080/"
        },
        "id": "JjCUw1jlIkFl",
        "outputId": "310633cc-4503-4598-9621-62d012c2982b"
      },
      "execution_count": null,
      "outputs": [
        {
          "output_type": "stream",
          "name": "stdout",
          "text": [
            "HELLO WORLD\n"
          ]
        }
      ]
    },
    {
      "cell_type": "markdown",
      "source": [
        "9) Write a code to count the number of words in a given string.\n",
        "\n",
        "Solution:"
      ],
      "metadata": {
        "id": "ezdzL-yYjX6f"
      }
    },
    {
      "cell_type": "code",
      "source": [
        "def count_words(s):\n",
        "  words = s.split()\n",
        "  return len(words)\n",
        "\n",
        "string = \"I am a data science student\"\n",
        "print(count_words(string))"
      ],
      "metadata": {
        "colab": {
          "base_uri": "https://localhost:8080/"
        },
        "id": "bza7G8tA16Iu",
        "outputId": "812c85e3-67d5-42cb-9d9d-02875cbe20bb"
      },
      "execution_count": null,
      "outputs": [
        {
          "output_type": "stream",
          "name": "stdout",
          "text": [
            "6\n"
          ]
        }
      ]
    },
    {
      "cell_type": "markdown",
      "source": [
        "10) Write a code to concatenate two strings without using the \"+\" operator.\n",
        "\n",
        "Solution:"
      ],
      "metadata": {
        "id": "Q6jx62bZjpbK"
      }
    },
    {
      "cell_type": "code",
      "source": [
        "str1=\"Hello\"\n",
        "str2=\"World!\"\n",
        "result= \" \".join([str1, str2])\n",
        "print(result)"
      ],
      "metadata": {
        "id": "Tbao3wh2pIr7",
        "colab": {
          "base_uri": "https://localhost:8080/"
        },
        "outputId": "e94c7ac4-0939-4063-a077-1d8bafdf8572"
      },
      "execution_count": null,
      "outputs": [
        {
          "output_type": "stream",
          "name": "stdout",
          "text": [
            "Hello World!\n"
          ]
        }
      ]
    },
    {
      "cell_type": "markdown",
      "source": [
        "11) Write a code to remove all occurences of specific element from the given list.\n",
        "\n",
        "Solution:"
      ],
      "metadata": {
        "id": "n0JSMYmclJxv"
      }
    },
    {
      "cell_type": "code",
      "source": [
        "def remove_element(list, element):\n",
        "    return [x for x in list if x != element]\n",
        "\n",
        "my_list = [1,2,3,4,5,6,7,5,9]\n",
        "element_to_remove = 5\n",
        "result = remove_element(my_list, element_to_remove)\n",
        "print(result)"
      ],
      "metadata": {
        "colab": {
          "base_uri": "https://localhost:8080/"
        },
        "id": "vIoybmxg1yRt",
        "outputId": "b894c65f-0fc2-460f-f9e5-774a8865273f"
      },
      "execution_count": null,
      "outputs": [
        {
          "output_type": "stream",
          "name": "stdout",
          "text": [
            "[1, 2, 3, 4, 6, 7, 9]\n"
          ]
        }
      ]
    },
    {
      "cell_type": "markdown",
      "source": [
        "12) Implement a code to find the second largest number in a given list of integers.\n",
        "\n",
        "Solution:"
      ],
      "metadata": {
        "id": "iTwE00Rtldfr"
      }
    },
    {
      "cell_type": "code",
      "source": [
        "def find_second_largest(lst):\n",
        "    unique_lst = list(set(lst))\n",
        "    if len(unique_lst) < 2:\n",
        "        return None\n",
        "    unique_lst.sort(reverse=True)\n",
        "    return unique_lst[1]\n",
        "\n",
        "my_list = [12,88,45,32,18,54]\n",
        "result = find_second_largest(my_list)\n",
        "print(result)"
      ],
      "metadata": {
        "id": "4TkVBeTYYJlL",
        "colab": {
          "base_uri": "https://localhost:8080/"
        },
        "outputId": "af3540b0-5b06-45b6-c714-797de02a97c7"
      },
      "execution_count": null,
      "outputs": [
        {
          "output_type": "stream",
          "name": "stdout",
          "text": [
            "54\n"
          ]
        }
      ]
    },
    {
      "cell_type": "markdown",
      "source": [
        "13) Create a code to count the all occurences of each element in a list and return a dictionary with elements as keys and their counts as values.\n",
        "\n",
        "Solution:"
      ],
      "metadata": {
        "id": "bYzs4z1OmBaN"
      }
    },
    {
      "cell_type": "code",
      "source": [
        "def count_occurences(lst):\n",
        "    count_dict = {}\n",
        "    for element in lst:\n",
        "        if element in count_dict:\n",
        "            count_dict[element] += 1\n",
        "        else:\n",
        "            count_dict[element] = 1\n",
        "    return count_dict\n",
        "\n",
        "my_list = [1,1,3,3,3,3,6,6,6, 'Alice', 'Jhon', 'Alice']\n",
        "print(count_occurences(my_list))"
      ],
      "metadata": {
        "id": "kcATYjET1107",
        "colab": {
          "base_uri": "https://localhost:8080/"
        },
        "outputId": "fb12d5da-8bba-4742-f2aa-46ee04b9e5a9"
      },
      "execution_count": null,
      "outputs": [
        {
          "output_type": "stream",
          "name": "stdout",
          "text": [
            "{1: 2, 3: 4, 6: 3, 'Alice': 2, 'Jhon': 1}\n"
          ]
        }
      ]
    },
    {
      "cell_type": "markdown",
      "source": [
        "14) Write a code to reverse a list in-place without using any in-built reverse functions.\n",
        "\n",
        "Solution:"
      ],
      "metadata": {
        "id": "0RvNaZ4fmttE"
      }
    },
    {
      "cell_type": "code",
      "source": [
        "def reverse_list(lst):\n",
        "  start = 0\n",
        "  end = len(lst) - 1\n",
        "  while start < end:\n",
        "    lst[start], lst[end] = lst[end], lst[start]\n",
        "    start += 1\n",
        "    end -= 1\n",
        "\n",
        "sample_list = [1,2,3,4,5,6,7,8,9]\n",
        "reverse_list(sample_list)\n",
        "print(sample_list)"
      ],
      "metadata": {
        "id": "8Jfhoj0E13m3",
        "colab": {
          "base_uri": "https://localhost:8080/"
        },
        "outputId": "b6068e02-d439-41a3-81a2-4261bff023e1"
      },
      "execution_count": null,
      "outputs": [
        {
          "output_type": "stream",
          "name": "stdout",
          "text": [
            "[9, 8, 7, 6, 5, 4, 3, 2, 1]\n"
          ]
        }
      ]
    },
    {
      "cell_type": "markdown",
      "source": [
        "15) Implement a code to find and remove the duplicates from a list while preserving the original order of elements.\n",
        "\n",
        "Solution:"
      ],
      "metadata": {
        "id": "FLHhDAwwnTHE"
      }
    },
    {
      "cell_type": "code",
      "source": [
        "def remove_duplicates(lst):\n",
        "  seen = set()\n",
        "  result = []\n",
        "  for item in lst:\n",
        "    if item not in seen:\n",
        "        result.append(item)\n",
        "        seen.add(item)\n",
        "  return result\n",
        "\n",
        "sample_list = [1,2,2,3,3,4,4,4,4,5,5]\n",
        "unique_list = remove_duplicates(sample_list)\n",
        "print(unique_list)"
      ],
      "metadata": {
        "id": "EvKD4ldb1r3G",
        "colab": {
          "base_uri": "https://localhost:8080/"
        },
        "outputId": "debf8c0d-4d0e-4b01-ce19-17601c2a5505"
      },
      "execution_count": null,
      "outputs": [
        {
          "output_type": "stream",
          "name": "stdout",
          "text": [
            "[1, 2, 3, 4, 5]\n"
          ]
        }
      ]
    },
    {
      "cell_type": "markdown",
      "source": [
        "16) Create a code to check if a given list is sorted (either in ascending or descending order) or not.\n",
        "\n",
        "Solution:"
      ],
      "metadata": {
        "id": "Pt7EnTF4nxP1"
      }
    },
    {
      "cell_type": "code",
      "source": [
        "def sorted_list(lst):\n",
        "  ascending = all(lst[i] <= lst[i+1] for i in range(len(lst) -1))\n",
        "  descending = all(lst[i] >= lst[i+1] for i in range(len(lst) -1))\n",
        "\n",
        "  if ascending:\n",
        "    return \"The List is sorted in ascending order\"\n",
        "  elif descending:\n",
        "    return \"The List is sorted in descending order\"\n",
        "  else:\n",
        "     return \"The List is not sorted\"\n",
        "\n",
        "sample_list1 = [1,2,3,4,5,6,7,8,9]\n",
        "sample_list2 = [9,8,7,6,5,4,3,2,1]\n",
        "sample_list3 = [5,3,6,1,2,8,9,4,7]\n",
        "print(sorted_list(sample_list1))\n",
        "print(sorted_list(sample_list2))\n",
        "print(sorted_list(sample_list3))"
      ],
      "metadata": {
        "id": "CoH3XzlX1sxV",
        "colab": {
          "base_uri": "https://localhost:8080/"
        },
        "outputId": "7952fe75-9a29-45fc-f768-3af053aa27e3"
      },
      "execution_count": null,
      "outputs": [
        {
          "output_type": "stream",
          "name": "stdout",
          "text": [
            "The List is sorted in ascending order\n",
            "The List is sorted in descending order\n",
            "The List is not sorted\n"
          ]
        }
      ]
    },
    {
      "cell_type": "markdown",
      "source": [
        "17) Write a code to merge two sorted lists into a single sorted list.\n",
        "\n",
        "Solution:"
      ],
      "metadata": {
        "id": "084HhE5to4Qp"
      }
    },
    {
      "cell_type": "code",
      "source": [
        "def sorted_list(list1, list2):\n",
        "  merged_list = list1+ list2\n",
        "  merged_list.sort()\n",
        "  return merged_list\n",
        "\n",
        "list1 =[1,3,5,7,9]\n",
        "list2 = [2,4,6,8,10]\n",
        "print(sorted_list(list1, list2))"
      ],
      "metadata": {
        "id": "RMIVx3rl1t2O",
        "colab": {
          "base_uri": "https://localhost:8080/"
        },
        "outputId": "cb7704ba-fc48-4c3d-884c-140dfffbc61f"
      },
      "execution_count": null,
      "outputs": [
        {
          "output_type": "stream",
          "name": "stdout",
          "text": [
            "[1, 2, 3, 4, 5, 6, 7, 8, 9, 10]\n"
          ]
        }
      ]
    },
    {
      "cell_type": "markdown",
      "source": [
        "18) Implement a code to find the intersection of two given strings.\n",
        "\n",
        "Solution:"
      ],
      "metadata": {
        "id": "w30jxt7KpPT2"
      }
    },
    {
      "cell_type": "code",
      "source": [
        "def intersecting_string(str1, str2):\n",
        "  common_chars = set(str1) & set(str2)\n",
        "  return ' '.join(common_chars)\n",
        "\n",
        "str1 = \"indian\"\n",
        "str2 = \"italian\"\n",
        "print(intersecting_string(str1, str2))"
      ],
      "metadata": {
        "id": "knF-sh9a1vxA",
        "colab": {
          "base_uri": "https://localhost:8080/"
        },
        "outputId": "1b4c0999-1091-489a-c55d-6ee60d2d0dba"
      },
      "execution_count": null,
      "outputs": [
        {
          "output_type": "stream",
          "name": "stdout",
          "text": [
            "i a n\n"
          ]
        }
      ]
    },
    {
      "cell_type": "markdown",
      "source": [
        "19) Create a code to find the union of two strings without duplicates.\n",
        "\n",
        "Solution:"
      ],
      "metadata": {
        "id": "XeP8zOSjpm-s"
      }
    },
    {
      "cell_type": "code",
      "source": [
        "def union_strings(str1, str2):\n",
        "  unique_chars = set(str1) | set(str2)\n",
        "  return ' '.join(unique_chars)\n",
        "\n",
        "str1 = \"indian\"\n",
        "str2 = \"italian\"\n",
        "print(union_strings(str1, str2))"
      ],
      "metadata": {
        "colab": {
          "base_uri": "https://localhost:8080/"
        },
        "id": "jzTWc0DCnLNv",
        "outputId": "a6a33f2f-ac4d-46c6-dcb5-fce7610cb69a"
      },
      "execution_count": null,
      "outputs": [
        {
          "output_type": "stream",
          "name": "stdout",
          "text": [
            "i n l d a t\n"
          ]
        }
      ]
    },
    {
      "cell_type": "markdown",
      "source": [
        "20) Write a code to shuffle a given list randomly without using any built-in shuffle functions.\n",
        "\n",
        "Solution:"
      ],
      "metadata": {
        "id": "x_fFvJhJp5qa"
      }
    },
    {
      "cell_type": "code",
      "source": [
        "import random\n",
        "\n",
        "def shuffle_list(lst):\n",
        "  n = len(lst)\n",
        "  for i in range(n-1, 0, -1):\n",
        "    j = random.randint(0,1)\n",
        "    lst[i], lst[j] = lst[j], lst[i]\n",
        "  return lst\n",
        "\n",
        "my_list = [1,2,3,4,5,6,7,8,9]\n",
        "print(shuffle_list(my_list))"
      ],
      "metadata": {
        "id": "6_pVBG6a1oRn",
        "colab": {
          "base_uri": "https://localhost:8080/"
        },
        "outputId": "05eaa8ad-e546-4861-d2c4-59580b322196"
      },
      "execution_count": null,
      "outputs": [
        {
          "output_type": "stream",
          "name": "stdout",
          "text": [
            "[3, 4, 5, 8, 6, 7, 2, 9, 1]\n"
          ]
        }
      ]
    },
    {
      "cell_type": "markdown",
      "source": [
        "21) Write a code that takes two tuples as input and returns a new tuple that containing elements that are common to both input tuples.\n",
        "\n",
        "Solution:"
      ],
      "metadata": {
        "id": "mLqzz82LqWgz"
      }
    },
    {
      "cell_type": "code",
      "source": [
        "def common_elements(tuple1, tuple2):\n",
        "  common_set = set(tuple1) & set(tuple2)\n",
        "  return tuple(common_set)\n",
        "\n",
        "tuple1 = (1,2,3,4,5,6, 'john', 'Ram')\n",
        "tuple2 = (4,5,6,7,8,9, 'Ram', 'Sham')\n",
        "result = (common_elements(tuple1, tuple2))\n",
        "print(result)"
      ],
      "metadata": {
        "id": "H9nu7lua1pUp",
        "colab": {
          "base_uri": "https://localhost:8080/"
        },
        "outputId": "cb659725-f26f-4859-b6bc-19c8771f77c4"
      },
      "execution_count": null,
      "outputs": [
        {
          "output_type": "stream",
          "name": "stdout",
          "text": [
            "('Ram', 4, 5, 6)\n"
          ]
        }
      ]
    },
    {
      "cell_type": "markdown",
      "source": [
        "22) Write a code that prompts the user to enter two sets of integers separated by commas. Then print the intersection of these two sets.\n",
        "\n",
        "Solution:"
      ],
      "metadata": {
        "id": "JMFUmSUesCC4"
      }
    },
    {
      "cell_type": "code",
      "source": [
        "def intersection_sets(set1, set2):\n",
        "  different_sets = set1 & set2\n",
        "  return(different_sets)\n",
        "\n",
        "set1 = {1,2,3,4,5,6,7,8}\n",
        "set2 = {4,5,6,7,8,9,10}\n",
        "print(set1.intersection(set2))"
      ],
      "metadata": {
        "id": "Ild_NgRa1bFB",
        "colab": {
          "base_uri": "https://localhost:8080/"
        },
        "outputId": "d3f49cb6-482f-4eec-ba25-3c5aa0ed7cc3"
      },
      "execution_count": null,
      "outputs": [
        {
          "output_type": "stream",
          "name": "stdout",
          "text": [
            "{4, 5, 6, 7, 8}\n"
          ]
        }
      ]
    },
    {
      "cell_type": "markdown",
      "source": [
        "23) Write a code to concatenate two tuples. The function should take two tuples as input and return a new tuple containing elements from both input tuples.\n",
        "\n",
        "Solution:"
      ],
      "metadata": {
        "id": "QABrydXRrCHj"
      }
    },
    {
      "cell_type": "code",
      "source": [
        "def concatenate_tuples(tuple1, tuple2):\n",
        "  return tuple1 + tuple2\n",
        "tuple1 = (1,2,3,4,5)\n",
        "tuple2 = (6,7,8,9,10)\n",
        "print(concatenate_tuples(tuple1, tuple2))"
      ],
      "metadata": {
        "id": "kfEEmoaY1cGs",
        "colab": {
          "base_uri": "https://localhost:8080/"
        },
        "outputId": "9477c1c4-d91d-47eb-eac6-ab3521402ddc"
      },
      "execution_count": null,
      "outputs": [
        {
          "output_type": "stream",
          "name": "stdout",
          "text": [
            "(1, 2, 3, 4, 5, 6, 7, 8, 9, 10)\n"
          ]
        }
      ]
    },
    {
      "cell_type": "markdown",
      "source": [
        "24) Develop a code that prompts the user to input two sets of integers. Then, prints the elements that are present in the first set and not in the second set.\n",
        "\n",
        "Solution:"
      ],
      "metadata": {
        "id": "MT061M35rxOX"
      }
    },
    {
      "cell_type": "code",
      "source": [
        "first_set = set(input(\"Enter the first set of integers separated by commas:\").split(','))\n",
        "second_set = set(input(\"Enter the second set of integers separated by commas:\").split(','))\n",
        "difference_list = first_set - second_set\n",
        "print(\"Elements present in the first but not in the second set:\", difference_list)"
      ],
      "metadata": {
        "id": "_Jb0GN0m1dwN",
        "colab": {
          "base_uri": "https://localhost:8080/"
        },
        "outputId": "c2263f23-6768-4251-bc06-549e6f7cebba"
      },
      "execution_count": null,
      "outputs": [
        {
          "output_type": "stream",
          "name": "stdout",
          "text": [
            "Enter the first set of integers separated by commas:3,4,5,6,7,8,9\n",
            "Enter the second set of integers separated by commas:1,2,3,4,5,6,7,8\n",
            "Elements present in the first but not in the second set: {'9'}\n"
          ]
        }
      ]
    },
    {
      "cell_type": "markdown",
      "source": [
        "25) Create a code that takes a tuple and two integers as input. The function should return a new tuple containing elements from the original tuple within a specified range of indices.\n",
        "\n",
        "Solution:"
      ],
      "metadata": {
        "id": "MmUWV397tLMZ"
      }
    },
    {
      "cell_type": "code",
      "source": [
        "def new_tuple(tuple, start_index, end_index):\n",
        "  return tuple[start_index: end_index]\n",
        "\n",
        "tuple = (1,2,3,4,5,6,7,8,9)\n",
        "start_index = 2\n",
        "end_index = 6\n",
        "print(new_tuple(tuple, start_index, end_index))"
      ],
      "metadata": {
        "id": "kUxb8Ozx1fru",
        "colab": {
          "base_uri": "https://localhost:8080/"
        },
        "outputId": "8d04e0fc-90d1-4704-d645-6283186953b4"
      },
      "execution_count": null,
      "outputs": [
        {
          "output_type": "stream",
          "name": "stdout",
          "text": [
            "(3, 4, 5, 6)\n"
          ]
        }
      ]
    },
    {
      "cell_type": "markdown",
      "source": [
        "26) Write a code that prompts the user to input two sets of characters. Then, print the union of these sets.\n",
        "\n",
        "Solution:"
      ],
      "metadata": {
        "id": "mh83gDfjt58j"
      }
    },
    {
      "cell_type": "code",
      "source": [
        "char1 = set(input(\"Enter the first set of characters separated by commas:\").split(','))\n",
        "char2 = set(input(\"Enter the second set of characters separated by commas:\").split(','))\n",
        "union_set = char1 | char2\n",
        "print(\"union of these sets:\", union_set)"
      ],
      "metadata": {
        "id": "kMBeUH0F1gz_",
        "colab": {
          "base_uri": "https://localhost:8080/"
        },
        "outputId": "5784fd3a-a5b4-48ac-d168-c10c915530a5"
      },
      "execution_count": null,
      "outputs": [
        {
          "output_type": "stream",
          "name": "stdout",
          "text": [
            "Enter the first set of characters separated by commas:i,n,d,i,a,n\n",
            "Enter the second set of characters separated by commas:a,m,e,r,i,c,a,n\n",
            "union of these sets: {'c', 'd', 'i', 'r', 'e', 'm', 'n', 'a'}\n"
          ]
        }
      ]
    },
    {
      "cell_type": "markdown",
      "source": [
        "27) Develop a code that takes tuple of integers as input. The function should return the maximum and minimum values from the tuple using tuple unpacking.\n",
        "\n",
        "Solution:"
      ],
      "metadata": {
        "id": "MDK2qnXbvW-V"
      }
    },
    {
      "cell_type": "code",
      "source": [
        "def max_min_tuple(tuple):\n",
        "  max_value = max(tuple)\n",
        "  min_value = min(tuple)\n",
        "  return max_value, min_value\n",
        "\n",
        "tuple = (19,27,98,67,109,76)\n",
        "print(max_min_tuple(tuple))"
      ],
      "metadata": {
        "id": "m57L6Wxa1h52",
        "colab": {
          "base_uri": "https://localhost:8080/"
        },
        "outputId": "717809e5-408a-4653-f425-d536000ccb16"
      },
      "execution_count": null,
      "outputs": [
        {
          "output_type": "stream",
          "name": "stdout",
          "text": [
            "(109, 19)\n"
          ]
        }
      ]
    },
    {
      "cell_type": "markdown",
      "source": [
        "28) Create a code to define two sets of integers. Then print the union, intersection and difference of these two sets.\n",
        "\n",
        "Solution:"
      ],
      "metadata": {
        "id": "mfaUXAM-v85A"
      }
    },
    {
      "cell_type": "code",
      "source": [
        "set1 =  {12,14,16,18,20}\n",
        "set2 = {14,16,18,20,22}\n",
        "\n",
        "union = set1 | set2\n",
        "print(\"union of set1 and set2:\",union)\n",
        "intersection = set1 & set2\n",
        "print(\"intersection of set1 and set2:\", intersection)\n",
        "difference = set1 - set2\n",
        "print(\"difference of set1 and set2:\", difference)"
      ],
      "metadata": {
        "id": "V0E86mPd1kTE",
        "colab": {
          "base_uri": "https://localhost:8080/"
        },
        "outputId": "100b2280-6b82-438d-f125-013176e314a8"
      },
      "execution_count": null,
      "outputs": [
        {
          "output_type": "stream",
          "name": "stdout",
          "text": [
            "union of set1 and set2: {12, 14, 16, 18, 20, 22}\n",
            "intersection of set1 and set2: {16, 18, 20, 14}\n",
            "difference of set1 and set2: {12}\n"
          ]
        }
      ]
    },
    {
      "cell_type": "markdown",
      "source": [
        "29) Write a code that takes a tuple and an element as input. The function should return the count of occurences of the given element in the tuple.\n",
        "\n",
        "Solution:"
      ],
      "metadata": {
        "id": "TQmtU7FAwiWM"
      }
    },
    {
      "cell_type": "code",
      "source": [
        "def count_occurences(input_tuple, element):\n",
        "  return input_tuple.count(element)\n",
        "my_tuple = (90,87,75,12,34,90,53,90,41)\n",
        "element = 90\n",
        "count = count_occurences(my_tuple, element)\n",
        "print(f\"The element {element} occurs {count} time(s) in the tuple\")\n"
      ],
      "metadata": {
        "id": "xJO4RGep1lWw",
        "colab": {
          "base_uri": "https://localhost:8080/"
        },
        "outputId": "e07fea5c-2fa3-4193-e277-87ae985a6794"
      },
      "execution_count": null,
      "outputs": [
        {
          "output_type": "stream",
          "name": "stdout",
          "text": [
            "The element 90 occurs 3 time(s) in the tuple\n"
          ]
        }
      ]
    },
    {
      "cell_type": "markdown",
      "source": [
        "30) Develop a code that prompts the user to input two sets of strings. then, print the symmetric difference of these sets.\n",
        "\n",
        "Solution:"
      ],
      "metadata": {
        "id": "465liIKYxDRY"
      }
    },
    {
      "cell_type": "code",
      "source": [
        "set1 = set(input(\"Enter the first set of strings separated by commas:\",).split(','))\n",
        "set2 = set(input(\"Enter the second set of strings separated by commas:\").split(','))\n",
        "symmetric_difference = set1 ^ set2\n",
        "print(\"symmetric difference of these two strings:\", symmetric_difference)"
      ],
      "metadata": {
        "id": "0dAtxjXz1T8a",
        "colab": {
          "base_uri": "https://localhost:8080/"
        },
        "outputId": "60bd343b-dccf-4b5e-bf5e-4dfccc2c6ca8"
      },
      "execution_count": null,
      "outputs": [
        {
          "output_type": "stream",
          "name": "stdout",
          "text": [
            "Enter the first set of strings separated by commas:'Run', 'walk', 'Exercise', 'Cardio'\n",
            "Enter the second set of strings separated by commas:'Sit', 'Stretch', 'Exercise', 'squates'\n",
            "symmetric difference of these two strings: {\"'Run'\", \" 'Cardio'\", \" 'Stretch'\", \" 'walk'\", \"'Sit'\", \" 'squates'\"}\n"
          ]
        }
      ]
    },
    {
      "cell_type": "markdown",
      "source": [
        "31) Write a code that takes a list of words as input and returns a dictionary where the keys are unique words and the values are frequancies of those words in the input list.\n",
        "\n",
        "Solution:"
      ],
      "metadata": {
        "id": "n2vTxVcsxgUu"
      }
    },
    {
      "cell_type": "code",
      "source": [
        "lst = ['apple', 'banana', 'orange', 'apple', 'banana', 'apple', 'kiwi', 'pomegranate', 'apple', 'kiwi']\n",
        "word_frequancy = {}\n",
        "for word in lst:\n",
        "  if word in word_frequancy:\n",
        "    word_frequancy[word] += 1\n",
        "  else:\n",
        "    word_frequancy[word] = 1\n",
        "print(word_frequancy)"
      ],
      "metadata": {
        "id": "hhAfaoCq1U85",
        "colab": {
          "base_uri": "https://localhost:8080/"
        },
        "outputId": "fdfc4867-0009-4b5f-f669-e3ac060bd57f"
      },
      "execution_count": null,
      "outputs": [
        {
          "output_type": "stream",
          "name": "stdout",
          "text": [
            "{'apple': 4, 'banana': 2, 'orange': 1, 'kiwi': 2, 'pomegranate': 1}\n"
          ]
        }
      ]
    },
    {
      "cell_type": "markdown",
      "source": [
        "32) Write a code that takes two dictionaries as input and merges them into a single dictionary. If there are common keys, then values should be added together.\n",
        "\n",
        "Solution:\n"
      ],
      "metadata": {
        "id": "vXZN3y6zyMFL"
      }
    },
    {
      "cell_type": "code",
      "source": [
        "dict1 = {'a':2, 'b':5, 'c':8}\n",
        "dict2 = {'b':4, 'c':6, 'd':9}\n",
        "merge_dict = {}\n",
        "for key, value in dict1.items():\n",
        "  if key in dict2:\n",
        "    merge_dict[key] = value + dict2[key]\n",
        "  else:\n",
        "    merge_dict[key] = value\n",
        "for key, value in dict2.items():\n",
        "  if key not in merge_dict:\n",
        "    merge_dict[key] = value\n",
        "print(merge_dict)"
      ],
      "metadata": {
        "id": "uycDEjcN1WVd",
        "colab": {
          "base_uri": "https://localhost:8080/"
        },
        "outputId": "3625c7f4-4ff9-47ac-f357-05595589466b"
      },
      "execution_count": null,
      "outputs": [
        {
          "output_type": "stream",
          "name": "stdout",
          "text": [
            "{'a': 2, 'b': 9, 'c': 14, 'd': 9}\n"
          ]
        }
      ]
    },
    {
      "cell_type": "markdown",
      "source": [
        "33) Write a code to access the value in a nested dictionary. The function should take the dictionary and the list of keys as input and return the corresponding value. If any of the key does not exist in the dictionary, the function should return none.\n",
        "\n",
        "Solution:"
      ],
      "metadata": {
        "id": "k0w-wtc-zIKC"
      }
    },
    {
      "cell_type": "code",
      "source": [
        "def nested_value(dictionary, keys):\n",
        "  current_value = dictionary\n",
        "  for key in keys:\n",
        "    if key in current_value:\n",
        "      current_value = current_value[key]\n",
        "    else:\n",
        "      return None\n",
        "    return current_value\n",
        "\n",
        "nested_dict = { 'x': {'y':{'z': 100}}}\n",
        "keys = ['x', 'y', 'z']\n",
        "print(nested_value(nested_dict, keys))\n",
        "keys = ['a', 'b', 'c']\n",
        "print(nested_value(nested_dict, keys))"
      ],
      "metadata": {
        "colab": {
          "base_uri": "https://localhost:8080/"
        },
        "id": "oqV95Eaj-emi",
        "outputId": "a05a9b4c-2cfd-4b89-e12c-2ffbf465f9fe"
      },
      "execution_count": null,
      "outputs": [
        {
          "output_type": "stream",
          "name": "stdout",
          "text": [
            "{'y': {'z': 100}}\n",
            "None\n"
          ]
        }
      ]
    },
    {
      "cell_type": "markdown",
      "source": [
        "\n",
        "\n",
        "\n",
        "\n",
        "\n",
        "\n",
        "\n",
        "34) Write a code that takes dictionary as input and return a sorted version of it based on the values. You can choose whether to choose in the ascending or descending order.\n",
        "\n",
        "Solution:"
      ],
      "metadata": {
        "id": "DgIL5WDhz-gt"
      }
    },
    {
      "cell_type": "code",
      "source": [
        "def sorted_dictionary(input_dict, ascending = True):\n",
        "  sorted_dict = dict(sorted(input_dict.items(), key=lambda item: item[1], reverse=not ascending))\n",
        "  return sorted_dict\n",
        "\n",
        "my_dict = {\"Ram\":2006, \"Sham\": 2010, \"Mohan\":2000, \"sohan\":2001}\n",
        "sorted_list_asc = sorted_dictionary(my_dict, True)\n",
        "print(sorted_list_asc)\n",
        "sorted_list_desc = sorted_dictionary(my_dict, False)\n",
        "print(my_dict)"
      ],
      "metadata": {
        "id": "YPRNH3On1Or8",
        "colab": {
          "base_uri": "https://localhost:8080/"
        },
        "outputId": "0ff25bef-ed58-4a55-aed1-9990948f6912"
      },
      "execution_count": null,
      "outputs": [
        {
          "output_type": "stream",
          "name": "stdout",
          "text": [
            "{'Mohan': 2000, 'sohan': 2001, 'Ram': 2006, 'Sham': 2010}\n",
            "{'Ram': 2006, 'Sham': 2010, 'Mohan': 2000, 'sohan': 2001}\n"
          ]
        }
      ]
    },
    {
      "cell_type": "markdown",
      "source": [
        "35) Write a code that inverts a dictionary, swapping keys and values. Ensure that the inverted dictionary correctly handles cases where multiple keys have the same value by sorting the keys as a list in the inverted dictionary.\n",
        "\n",
        "Solution:"
      ],
      "metadata": {
        "id": "2CmBrWsG0fAT"
      }
    },
    {
      "cell_type": "code",
      "source": [
        "def invert_dict_sorting(input_dict):\n",
        "  inverted_dict = {}\n",
        "  for key, value in input_dict.items():\n",
        "    if value in inverted_dict:\n",
        "      inverted_dict[value].append(key)\n",
        "    else:\n",
        "      inverted_dict[value] =  [key]\n",
        "  for value in inverted_dict:\n",
        "    inverted_dict[value].sort()\n",
        "  return inverted_dict\n",
        "\n",
        "my_dict = {\"Pooja\":99, \"Priyanka\":96, \"Deepak\":95, \"Manas\":88, \"Vyasha\":99, \"Aadhyavi\":97, \"Anjuman\":97}\n",
        "inverted_dict = invert_dict_sorting(my_dict)\n",
        "print(\"Inverted Dictionary with sorted keys:\", inverted_dict)"
      ],
      "metadata": {
        "id": "PHECn3rh1NdD",
        "colab": {
          "base_uri": "https://localhost:8080/"
        },
        "outputId": "1e803968-64e5-41b0-d212-009b44375da4"
      },
      "execution_count": null,
      "outputs": [
        {
          "output_type": "stream",
          "name": "stdout",
          "text": [
            "Inverted Dictionary with sorted keys: {99: ['Pooja', 'Vyasha'], 96: ['Priyanka'], 95: ['Deepak'], 88: ['Manas'], 97: ['Aadhyavi', 'Anjuman']}\n"
          ]
        }
      ]
    }
  ]
}